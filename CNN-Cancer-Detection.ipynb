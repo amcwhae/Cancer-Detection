{
 "cells": [
  {
   "cell_type": "markdown",
   "id": "cffb9884",
   "metadata": {},
   "source": [
    "# Cancer Detection\n",
    "\n",
    "The problem is whether deep learning using a convolutional neural network can be used to detect cancer in histopathologic images. "
   ]
  },
  {
   "cell_type": "code",
   "execution_count": 277,
   "id": "56252701",
   "metadata": {},
   "outputs": [],
   "source": [
    "import os\n",
    "import shutil\n",
    "import pandas as pd\n",
    "import numpy as np\n",
    "import matplotlib.pyplot as plt\n",
    "from sklearn.model_selection import train_test_split\n",
    "from sklearn.utils import shuffle\n",
    "\n",
    "import tensorflow as tf\n",
    "from tensorflow import keras\n",
    "from tensorflow.keras.preprocessing.image import ImageDataGenerator\n",
    "from tensorflow.keras.callbacks import EarlyStopping, ReduceLROnPlateau, ModelCheckpoint\n",
    "from tensorflow.keras.optimizers import Adam\n",
    "\n",
    "import keras_tuner as kt"
   ]
  },
  {
   "cell_type": "code",
   "execution_count": 119,
   "id": "52291ae6",
   "metadata": {},
   "outputs": [],
   "source": [
    "IMAGE_SIZE = 96\n",
    "IMAGE_CHANNELS = 3\n",
    "SAMPLE_SIZE = 40000"
   ]
  },
  {
   "cell_type": "code",
   "execution_count": 58,
   "id": "172028a4",
   "metadata": {},
   "outputs": [
    {
     "data": {
      "text/plain": [
       "['sample_submission.csv', 'test', 'train', 'train_labels.csv']"
      ]
     },
     "execution_count": 58,
     "metadata": {},
     "output_type": "execute_result"
    }
   ],
   "source": [
    "BASE_DIR = os.getcwd()\n",
    "os.listdir(os.path.join(BASE_DIR, 'input'))"
   ]
  },
  {
   "cell_type": "markdown",
   "id": "1a1a55ec",
   "metadata": {},
   "source": [
    "## Dataset Information\n",
    "\n",
    "How many train/test images?"
   ]
  },
  {
   "cell_type": "code",
   "execution_count": 59,
   "id": "9bf05f16",
   "metadata": {},
   "outputs": [
    {
     "name": "stdout",
     "output_type": "stream",
     "text": [
      "Train images: 220026\n",
      "Test images: 57458\n"
     ]
    }
   ],
   "source": [
    "num_train = len(os.listdir(os.path.join(BASE_DIR, 'input\\\\train')))\n",
    "num_test = len(os.listdir(os.path.join(BASE_DIR, 'input\\\\test')))\n",
    "print(f\"Train images: {num_train}\")\n",
    "print(f\"Test images: {num_test}\")"
   ]
  },
  {
   "cell_type": "markdown",
   "id": "c7c0df2d",
   "metadata": {},
   "source": [
    "Import labels into a dataframe"
   ]
  },
  {
   "cell_type": "code",
   "execution_count": 66,
   "id": "160baee2",
   "metadata": {},
   "outputs": [
    {
     "data": {
      "text/plain": [
       "<bound method NDFrame.head of                                               id  label\n",
       "0       f38a6374c348f90b587e046aac6079959adf3835      0\n",
       "1       c18f2d887b7ae4f6742ee445113fa1aef383ed77      1\n",
       "2       755db6279dae599ebb4d39a9123cce439965282d      0\n",
       "3       bc3f0c64fb968ff4a8bd33af6971ecae77c75e08      0\n",
       "4       068aba587a4950175d04c680d38943fd488d6a9d      0\n",
       "...                                          ...    ...\n",
       "220020  53e9aa9d46e720bf3c6a7528d1fca3ba6e2e49f6      0\n",
       "220021  d4b854fe38b07fe2831ad73892b3cec877689576      1\n",
       "220022  3d046cead1a2a5cbe00b2b4847cfb7ba7cf5fe75      0\n",
       "220023  f129691c13433f66e1e0671ff1fe80944816f5a2      0\n",
       "220024  a81f84895ddcd522302ddf34be02eb1b3e5af1cb      1\n",
       "\n",
       "[220025 rows x 2 columns]>"
      ]
     },
     "execution_count": 66,
     "metadata": {},
     "output_type": "execute_result"
    }
   ],
   "source": [
    "df = pd.read_csv(os.path.join(BASE_DIR, 'input\\\\train_labels.csv'))\n",
    "df.head"
   ]
  },
  {
   "cell_type": "markdown",
   "id": "97bf4516",
   "metadata": {},
   "source": [
    "Class distribution"
   ]
  },
  {
   "cell_type": "code",
   "execution_count": 61,
   "id": "a42087ce",
   "metadata": {},
   "outputs": [
    {
     "data": {
      "text/plain": [
       "<BarContainer object of 2 artists>"
      ]
     },
     "execution_count": 61,
     "metadata": {},
     "output_type": "execute_result"
    },
    {
     "data": {
      "image/png": "[encoded data removed]",
      "text/plain": [
       "<Figure size 640x480 with 1 Axes>"
      ]
     },
     "metadata": {},
     "output_type": "display_data"
    }
   ],
   "source": [
    "df['label'].value_counts()\n",
    "plt.bar([\"Negative\", \"Positive\"], height=df['label'].value_counts())"
   ]
  },
  {
   "cell_type": "markdown",
   "id": "b763e50f",
   "metadata": {},
   "source": [
    "Rather than use the whole dataset, let's sample 40,000 of each label and then create balanced train and test sets"
   ]
  },
  {
   "cell_type": "code",
   "execution_count": 120,
   "id": "408514e5",
   "metadata": {},
   "outputs": [
    {
     "name": "stdout",
     "output_type": "stream",
     "text": [
      "(64000, 2)\n",
      "(16000, 2)\n",
      "1    32000\n",
      "0    32000\n",
      "Name: label, dtype: int64\n"
     ]
    }
   ],
   "source": [
    "df_0 = df[df['label'] == 0].sample(SAMPLE_SIZE, random_state=123)\n",
    "df_1 = df[df['label'] == 1].sample(SAMPLE_SIZE, random_state=123)\n",
    "\n",
    "sampled_df = pd.concat([df_0, df_1], axis=0).reset_index(drop=True)\n",
    "sampled_df = shuffle(sampled_df)\n",
    "sampled_df['label'].value_counts()\n",
    "\n",
    "# stratify to create balanced set\n",
    "df_train, df_val = train_test_split(sampled_df, test_size=0.20, random_state=123, stratify=sampled_df['label'])\n",
    "\n",
    "print(df_train.shape)\n",
    "print(df_val.shape)\n",
    "print(df_train['label'].value_counts())"
   ]
  },
  {
   "cell_type": "markdown",
   "id": "76cac643",
   "metadata": {},
   "source": [
    "Put images of the sampled IDs into a folder structure for the generator to use later"
   ]
  },
  {
   "cell_type": "code",
   "execution_count": 121,
   "id": "9ecd3aad",
   "metadata": {},
   "outputs": [],
   "source": [
    "for idx, row in df_train.iterrows():\n",
    "    fname = row['id'] + '.tif'\n",
    "    label = \"no_tumor\" if row['label'] == 0 else \"has_tumor\"\n",
    "    \n",
    "    src = os.path.join(BASE_DIR, 'input//train', fname)\n",
    "    dest = os.path.join(BASE_DIR, 'sampled//train', label, fname)\n",
    "    \n",
    "    shutil.copyfile(src, dest)\n",
    "\n",
    "for idx, row in df_val.iterrows():\n",
    "    fname = row['id'] + '.tif'\n",
    "    label = \"no_tumor\" if row['label'] == 0 else \"has_tumor\"\n",
    "    \n",
    "    src = os.path.join(BASE_DIR, 'input//train', fname)\n",
    "    dest = os.path.join(BASE_DIR, 'sampled//valid', label, fname)\n",
    "    \n",
    "    shutil.copyfile(src, dest)"
   ]
  },
  {
   "cell_type": "code",
   "execution_count": 302,
   "id": "8859190b",
   "metadata": {},
   "outputs": [],
   "source": [
    "train_path = os.path.join(BASE_DIR, 'sampled//train')\n",
    "valid_path = os.path.join(BASE_DIR, 'sampled//valid')\n",
    "test_path = os.path.join(BASE_DIR, 'input//competition')\n",
    "\n",
    "num_train_samples = len(df_train)\n",
    "num_val_samples = len(df_val)\n",
    "train_batch_size = 32\n",
    "val_batch_size = 32\n",
    "\n",
    "\n",
    "train_steps = np.ceil(num_train_samples / train_batch_size)\n",
    "val_steps = np.ceil(num_val_samples / val_batch_size)\n",
    "\n"
   ]
  },
  {
   "cell_type": "code",
   "execution_count": 317,
   "id": "4a9c55d1",
   "metadata": {},
   "outputs": [
    {
     "name": "stdout",
     "output_type": "stream",
     "text": [
      "Found 64000 images belonging to 2 classes.\n",
      "Found 16000 images belonging to 2 classes.\n",
      "Found 16000 images belonging to 2 classes.\n",
      "Found 57458 images belonging to 1 classes.\n"
     ]
    },
    {
     "data": {
      "text/plain": [
       "{'has_tumor': 0, 'no_tumor': 1}"
      ]
     },
     "execution_count": 317,
     "metadata": {},
     "output_type": "execute_result"
    }
   ],
   "source": [
    "datagen = ImageDataGenerator(rescale=1.0/255)\n",
    "\n",
    "train_gen = datagen.flow_from_directory(train_path,\n",
    "                                        target_size=(IMAGE_SIZE,IMAGE_SIZE),\n",
    "                                        batch_size=train_batch_size,\n",
    "                                        class_mode='categorical')\n",
    "\n",
    "val_gen = datagen.flow_from_directory(valid_path,\n",
    "                                        target_size=(IMAGE_SIZE,IMAGE_SIZE),\n",
    "                                        batch_size=val_batch_size,\n",
    "                                        class_mode='categorical')\n",
    "\n",
    "test_gen = datagen.flow_from_directory(valid_path,\n",
    "                                        target_size=(IMAGE_SIZE,IMAGE_SIZE),\n",
    "                                        batch_size=1,\n",
    "                                        class_mode='categorical',\n",
    "                                        shuffle=False)\n",
    "\n",
    "competition_gen = datagen.flow_from_directory(test_path,\n",
    "                                              target_size=(IMAGE_SIZE,IMAGE_SIZE),\n",
    "                                              batch_size = 1,\n",
    "                                              class_mode=None,\n",
    "                                              shuffle=False\n",
    "                                             )\n",
    "test_gen.class_indices"
   ]
  },
  {
   "cell_type": "markdown",
   "id": "53dc6f22",
   "metadata": {},
   "source": [
    "# Modeling\n",
    "\n",
    "## Base Model\n",
    "Let's train a base model. Parameters are taken from https://www.tensorflow.org/tutorials/load_data/images with the addition of softmax in the final layer. Let's save the best epoch and use an adaptive learning rate. "
   ]
  },
  {
   "cell_type": "code",
   "execution_count": 235,
   "id": "5444a36a",
   "metadata": {},
   "outputs": [
    {
     "data": {
      "text/html": [
       "<div>\n",
       "<style scoped>\n",
       "    .dataframe tbody tr th:only-of-type {\n",
       "        vertical-align: middle;\n",
       "    }\n",
       "\n",
       "    .dataframe tbody tr th {\n",
       "        vertical-align: top;\n",
       "    }\n",
       "\n",
       "    .dataframe thead th {\n",
       "        text-align: right;\n",
       "    }\n",
       "</style>\n",
       "<table border=\"1\" class=\"dataframe\">\n",
       "  <thead>\n",
       "    <tr style=\"text-align: right;\">\n",
       "      <th></th>\n",
       "      <th>model</th>\n",
       "      <th>loss</th>\n",
       "      <th>accuracy</th>\n",
       "    </tr>\n",
       "  </thead>\n",
       "  <tbody>\n",
       "  </tbody>\n",
       "</table>\n",
       "</div>"
      ],
      "text/plain": [
       "Empty DataFrame\n",
       "Columns: [model, loss, accuracy]\n",
       "Index: []"
      ]
     },
     "execution_count": 235,
     "metadata": {},
     "output_type": "execute_result"
    }
   ],
   "source": [
    "results = pd.DataFrame(columns=('model', 'loss', 'accuracy'))\n",
    "results"
   ]
  },
  {
   "cell_type": "code",
   "execution_count": 170,
   "id": "146e663b",
   "metadata": {},
   "outputs": [
    {
     "name": "stdout",
     "output_type": "stream",
     "text": [
      "Model: \"sequential_20\"\n",
      "_________________________________________________________________\n",
      "Layer (type)                 Output Shape              Param #   \n",
      "=================================================================\n",
      "conv2d_90 (Conv2D)           (None, 94, 94, 32)        896       \n",
      "_________________________________________________________________\n",
      "max_pooling2d_57 (MaxPooling (None, 47, 47, 32)        0         \n",
      "_________________________________________________________________\n",
      "conv2d_91 (Conv2D)           (None, 45, 45, 32)        9248      \n",
      "_________________________________________________________________\n",
      "max_pooling2d_58 (MaxPooling (None, 22, 22, 32)        0         \n",
      "_________________________________________________________________\n",
      "conv2d_92 (Conv2D)           (None, 20, 20, 32)        9248      \n",
      "_________________________________________________________________\n",
      "max_pooling2d_59 (MaxPooling (None, 10, 10, 32)        0         \n",
      "_________________________________________________________________\n",
      "flatten_19 (Flatten)         (None, 3200)              0         \n",
      "_________________________________________________________________\n",
      "dense_38 (Dense)             (None, 128)               409728    \n",
      "_________________________________________________________________\n",
      "dense_39 (Dense)             (None, 2)                 258       \n",
      "=================================================================\n",
      "Total params: 429,378\n",
      "Trainable params: 429,378\n",
      "Non-trainable params: 0\n",
      "_________________________________________________________________\n"
     ]
    }
   ],
   "source": [
    "num_classes = 2\n",
    "\n",
    "model1 = tf.keras.Sequential([\n",
    "    tf.keras.layers.Conv2D(32, 3, activation='relu', input_shape = (96, 96, 3)),\n",
    "    tf.keras.layers.MaxPooling2D(),\n",
    "    tf.keras.layers.Conv2D(32, 3, activation='relu'),\n",
    "    tf.keras.layers.MaxPooling2D(),\n",
    "    tf.keras.layers.Conv2D(32, 3, activation='relu'),\n",
    "    tf.keras.layers.MaxPooling2D(),\n",
    "    tf.keras.layers.Flatten(),\n",
    "    tf.keras.layers.Dense(128, activation='relu'),\n",
    "    tf.keras.layers.Dense(num_classes, activation='softmax')\n",
    "])\n",
    "\n",
    "model1.summary()"
   ]
  },
  {
   "cell_type": "code",
   "execution_count": 171,
   "id": "34b83000",
   "metadata": {},
   "outputs": [
    {
     "name": "stdout",
     "output_type": "stream",
     "text": [
      "Epoch 1/15\n",
      "2000/2000 [==============================] - 34s 16ms/step - loss: 0.4912 - accuracy: 0.7695 - val_loss: 0.4604 - val_accuracy: 0.7907\n",
      "\n",
      "Epoch 00001: val_accuracy improved from -inf to 0.79069, saving model to model1.h5\n",
      "Epoch 2/15\n",
      "2000/2000 [==============================] - 31s 15ms/step - loss: 0.4582 - accuracy: 0.7880 - val_loss: 0.4450 - val_accuracy: 0.8005\n",
      "\n",
      "Epoch 00002: val_accuracy improved from 0.79069 to 0.80050, saving model to model1.h5\n",
      "Epoch 3/15\n",
      "2000/2000 [==============================] - 29s 14ms/step - loss: 0.4341 - accuracy: 0.8007 - val_loss: 0.4176 - val_accuracy: 0.8146\n",
      "\n",
      "Epoch 00003: val_accuracy improved from 0.80050 to 0.81456, saving model to model1.h5\n",
      "Epoch 4/15\n",
      "2000/2000 [==============================] - 29s 14ms/step - loss: 0.4162 - accuracy: 0.8130 - val_loss: 0.4071 - val_accuracy: 0.8210\n",
      "\n",
      "Epoch 00004: val_accuracy improved from 0.81456 to 0.82100, saving model to model1.h5\n",
      "Epoch 5/15\n",
      "2000/2000 [==============================] - 29s 15ms/step - loss: 0.3950 - accuracy: 0.8252 - val_loss: 0.3933 - val_accuracy: 0.8282\n",
      "\n",
      "Epoch 00005: val_accuracy improved from 0.82100 to 0.82825, saving model to model1.h5\n",
      "Epoch 6/15\n",
      "2000/2000 [==============================] - 29s 15ms/step - loss: 0.3784 - accuracy: 0.8329 - val_loss: 0.3834 - val_accuracy: 0.8349\n",
      "\n",
      "Epoch 00006: val_accuracy improved from 0.82825 to 0.83494, saving model to model1.h5\n",
      "Epoch 7/15\n",
      "2000/2000 [==============================] - 30s 15ms/step - loss: 0.3625 - accuracy: 0.8412 - val_loss: 0.3700 - val_accuracy: 0.8411\n",
      "\n",
      "Epoch 00007: val_accuracy improved from 0.83494 to 0.84106, saving model to model1.h5\n",
      "Epoch 8/15\n",
      "2000/2000 [==============================] - 30s 15ms/step - loss: 0.3517 - accuracy: 0.8475 - val_loss: 0.3674 - val_accuracy: 0.8407\n",
      "\n",
      "Epoch 00008: val_accuracy did not improve from 0.84106\n",
      "Epoch 9/15\n",
      "2000/2000 [==============================] - 29s 15ms/step - loss: 0.3394 - accuracy: 0.8526 - val_loss: 0.3538 - val_accuracy: 0.8487\n",
      "\n",
      "Epoch 00009: val_accuracy improved from 0.84106 to 0.84869, saving model to model1.h5\n",
      "Epoch 10/15\n",
      "2000/2000 [==============================] - 29s 15ms/step - loss: 0.3275 - accuracy: 0.8584 - val_loss: 0.3444 - val_accuracy: 0.8522\n",
      "\n",
      "Epoch 00010: val_accuracy improved from 0.84869 to 0.85219, saving model to model1.h5\n",
      "Epoch 11/15\n",
      "2000/2000 [==============================] - 29s 15ms/step - loss: 0.3191 - accuracy: 0.8630 - val_loss: 0.3465 - val_accuracy: 0.8487\n",
      "\n",
      "Epoch 00011: val_accuracy did not improve from 0.85219\n",
      "Epoch 12/15\n",
      "2000/2000 [==============================] - 29s 15ms/step - loss: 0.3105 - accuracy: 0.8675 - val_loss: 0.3359 - val_accuracy: 0.8597\n",
      "\n",
      "Epoch 00012: val_accuracy improved from 0.85219 to 0.85975, saving model to model1.h5\n",
      "Epoch 13/15\n",
      "2000/2000 [==============================] - 29s 15ms/step - loss: 0.3021 - accuracy: 0.8716 - val_loss: 0.3621 - val_accuracy: 0.8478\n",
      "\n",
      "Epoch 00013: val_accuracy did not improve from 0.85975\n",
      "Epoch 14/15\n",
      "2000/2000 [==============================] - 31s 15ms/step - loss: 0.2930 - accuracy: 0.8762 - val_loss: 0.3306 - val_accuracy: 0.8615\n",
      "\n",
      "Epoch 00014: val_accuracy improved from 0.85975 to 0.86150, saving model to model1.h5\n",
      "Epoch 15/15\n",
      "2000/2000 [==============================] - 29s 15ms/step - loss: 0.2837 - accuracy: 0.8812 - val_loss: 0.3192 - val_accuracy: 0.8670\n",
      "\n",
      "Epoch 00015: val_accuracy improved from 0.86150 to 0.86700, saving model to model1.h5\n"
     ]
    }
   ],
   "source": [
    "model1.compile(Adam(learning_rate=0.0001), loss='binary_crossentropy', metrics=['accuracy'])\n",
    "\n",
    "checkpoint = ModelCheckpoint(\"model1.h5\", monitor='val_accuracy', verbose=1, save_best_only=True, mode='max')\n",
    "reduce_lr = ReduceLROnPlateau(monitor='val_accuracy', factor=0.5, patience=2, verbose=1, mode='max', min_lr=0.00001)\n",
    "\n",
    "callbacks_list = [checkpoint, reduce_lr]\n",
    "\n",
    "history1 = model1.fit(\n",
    "    train_gen,\n",
    "    steps_per_epoch=train_steps,\n",
    "    validation_data=val_gen,\n",
    "    validation_steps=val_steps,\n",
    "    epochs=15,\n",
    "    callbacks=callbacks_list\n",
    ")"
   ]
  },
  {
   "cell_type": "code",
   "execution_count": 218,
   "id": "16801cb3",
   "metadata": {},
   "outputs": [
    {
     "name": "stdout",
     "output_type": "stream",
     "text": [
      "16000/16000 [==============================] - 23s 1ms/step - loss: 0.3192 - accuracy: 0.8670\n",
      "Test loss: 0.319\n",
      "Test accuracy: 0.867\n"
     ]
    }
   ],
   "source": [
    "model1.load_weights('model1.h5')\n",
    "\n",
    "loss1, accuracy1 = model1.evaluate(test_gen)\n",
    "\n",
    "print(f\"Test loss: {loss1:.3f}\")\n",
    "print(f\"Test accuracy: {accuracy1:.3f}\")\n"
   ]
  },
  {
   "cell_type": "code",
   "execution_count": 242,
   "id": "8f09e4cf",
   "metadata": {},
   "outputs": [
    {
     "data": {
      "text/html": [
       "<div>\n",
       "<style scoped>\n",
       "    .dataframe tbody tr th:only-of-type {\n",
       "        vertical-align: middle;\n",
       "    }\n",
       "\n",
       "    .dataframe tbody tr th {\n",
       "        vertical-align: top;\n",
       "    }\n",
       "\n",
       "    .dataframe thead th {\n",
       "        text-align: right;\n",
       "    }\n",
       "</style>\n",
       "<table border=\"1\" class=\"dataframe\">\n",
       "  <thead>\n",
       "    <tr style=\"text-align: right;\">\n",
       "      <th></th>\n",
       "      <th>model</th>\n",
       "      <th>loss</th>\n",
       "      <th>accuracy</th>\n",
       "    </tr>\n",
       "  </thead>\n",
       "  <tbody>\n",
       "    <tr>\n",
       "      <th>0</th>\n",
       "      <td>base</td>\n",
       "      <td>0.319171</td>\n",
       "      <td>0.867</td>\n",
       "    </tr>\n",
       "  </tbody>\n",
       "</table>\n",
       "</div>"
      ],
      "text/plain": [
       "  model      loss  accuracy\n",
       "0  base  0.319171     0.867"
      ]
     },
     "execution_count": 242,
     "metadata": {},
     "output_type": "execute_result"
    }
   ],
   "source": [
    "results = pd.DataFrame(columns=('model', 'loss', 'accuracy'))\n",
    "results.loc[0] = ['base', loss1, accuracy1]\n",
    "results"
   ]
  },
  {
   "cell_type": "markdown",
   "id": "ac4055f7",
   "metadata": {},
   "source": [
    "The best epoch from the base model had a test accuracy of 0.87.\n",
    "\n",
    "Let's try adding regularization (dropout), which prevents overfitting.\n",
    "\n",
    "## Regularization Layers"
   ]
  },
  {
   "cell_type": "code",
   "execution_count": 173,
   "id": "55066dc9",
   "metadata": {},
   "outputs": [
    {
     "name": "stdout",
     "output_type": "stream",
     "text": [
      "Model: \"sequential_21\"\n",
      "_________________________________________________________________\n",
      "Layer (type)                 Output Shape              Param #   \n",
      "=================================================================\n",
      "conv2d_93 (Conv2D)           (None, 94, 94, 32)        896       \n",
      "_________________________________________________________________\n",
      "max_pooling2d_60 (MaxPooling (None, 47, 47, 32)        0         \n",
      "_________________________________________________________________\n",
      "dropout_36 (Dropout)         (None, 47, 47, 32)        0         \n",
      "_________________________________________________________________\n",
      "conv2d_94 (Conv2D)           (None, 45, 45, 32)        9248      \n",
      "_________________________________________________________________\n",
      "max_pooling2d_61 (MaxPooling (None, 22, 22, 32)        0         \n",
      "_________________________________________________________________\n",
      "dropout_37 (Dropout)         (None, 22, 22, 32)        0         \n",
      "_________________________________________________________________\n",
      "conv2d_95 (Conv2D)           (None, 20, 20, 32)        9248      \n",
      "_________________________________________________________________\n",
      "max_pooling2d_62 (MaxPooling (None, 10, 10, 32)        0         \n",
      "_________________________________________________________________\n",
      "dropout_38 (Dropout)         (None, 10, 10, 32)        0         \n",
      "_________________________________________________________________\n",
      "flatten_20 (Flatten)         (None, 3200)              0         \n",
      "_________________________________________________________________\n",
      "dense_40 (Dense)             (None, 128)               409728    \n",
      "_________________________________________________________________\n",
      "dropout_39 (Dropout)         (None, 128)               0         \n",
      "_________________________________________________________________\n",
      "dense_41 (Dense)             (None, 2)                 258       \n",
      "=================================================================\n",
      "Total params: 429,378\n",
      "Trainable params: 429,378\n",
      "Non-trainable params: 0\n",
      "_________________________________________________________________\n"
     ]
    }
   ],
   "source": [
    "dropout_conv = 0.3\n",
    "dropout_dense = 0.3\n",
    "\n",
    "model2 = tf.keras.Sequential([\n",
    "    tf.keras.layers.Conv2D(32, 3, activation='relu', input_shape = (96, 96, 3)),\n",
    "    tf.keras.layers.MaxPooling2D(),\n",
    "    tf.keras.layers.Dropout(dropout_conv),\n",
    "    tf.keras.layers.Conv2D(32, 3, activation='relu'),\n",
    "    tf.keras.layers.MaxPooling2D(),\n",
    "    tf.keras.layers.Dropout(dropout_conv),\n",
    "    tf.keras.layers.Conv2D(32, 3, activation='relu'),\n",
    "    tf.keras.layers.MaxPooling2D(),\n",
    "    tf.keras.layers.Dropout(dropout_conv),\n",
    "    tf.keras.layers.Flatten(),\n",
    "    tf.keras.layers.Dense(128, activation='relu'),\n",
    "    tf.keras.layers.Dropout(dropout_dense),\n",
    "    tf.keras.layers.Dense(num_classes, activation='softmax')\n",
    "])\n",
    "\n",
    "model2.summary()"
   ]
  },
  {
   "cell_type": "code",
   "execution_count": 174,
   "id": "edc3bf44",
   "metadata": {
    "scrolled": false
   },
   "outputs": [
    {
     "name": "stdout",
     "output_type": "stream",
     "text": [
      "Epoch 1/15\n",
      "2000/2000 [==============================] - 31s 15ms/step - loss: 0.5257 - accuracy: 0.7387 - val_loss: 0.5509 - val_accuracy: 0.7321\n",
      "\n",
      "Epoch 00001: val_accuracy improved from -inf to 0.73212, saving model to model2.h5\n",
      "Epoch 2/15\n",
      "2000/2000 [==============================] - 30s 15ms/step - loss: 0.4736 - accuracy: 0.7836 - val_loss: 0.5073 - val_accuracy: 0.7641\n",
      "\n",
      "Epoch 00002: val_accuracy improved from 0.73212 to 0.76406, saving model to model2.h5\n",
      "Epoch 3/15\n",
      "2000/2000 [==============================] - 29s 14ms/step - loss: 0.4545 - accuracy: 0.7932 - val_loss: 0.4830 - val_accuracy: 0.7738\n",
      "\n",
      "Epoch 00003: val_accuracy improved from 0.76406 to 0.77381, saving model to model2.h5\n",
      "Epoch 4/15\n",
      "2000/2000 [==============================] - 30s 15ms/step - loss: 0.4377 - accuracy: 0.8039 - val_loss: 0.4829 - val_accuracy: 0.7756\n",
      "\n",
      "Epoch 00004: val_accuracy improved from 0.77381 to 0.77562, saving model to model2.h5\n",
      "Epoch 5/15\n",
      "2000/2000 [==============================] - 30s 15ms/step - loss: 0.4284 - accuracy: 0.8080 - val_loss: 0.4747 - val_accuracy: 0.7886\n",
      "\n",
      "Epoch 00005: val_accuracy improved from 0.77562 to 0.78863, saving model to model2.h5\n",
      "Epoch 6/15\n",
      "2000/2000 [==============================] - 30s 15ms/step - loss: 0.4173 - accuracy: 0.8124 - val_loss: 0.5331 - val_accuracy: 0.7279\n",
      "\n",
      "Epoch 00006: val_accuracy did not improve from 0.78863\n",
      "Epoch 7/15\n",
      "2000/2000 [==============================] - 30s 15ms/step - loss: 0.4051 - accuracy: 0.8206 - val_loss: 0.4972 - val_accuracy: 0.7556\n",
      "\n",
      "Epoch 00007: val_accuracy did not improve from 0.78863\n",
      "\n",
      "Epoch 00007: ReduceLROnPlateau reducing learning rate to 4.999999873689376e-05.\n",
      "Epoch 8/15\n",
      "2000/2000 [==============================] - 30s 15ms/step - loss: 0.3882 - accuracy: 0.8297 - val_loss: 0.4965 - val_accuracy: 0.7535\n",
      "\n",
      "Epoch 00008: val_accuracy did not improve from 0.78863\n",
      "Epoch 9/15\n",
      "2000/2000 [==============================] - 29s 15ms/step - loss: 0.3800 - accuracy: 0.8338 - val_loss: 0.4948 - val_accuracy: 0.7608\n",
      "\n",
      "Epoch 00009: val_accuracy did not improve from 0.78863\n",
      "\n",
      "Epoch 00009: ReduceLROnPlateau reducing learning rate to 2.499999936844688e-05.\n",
      "Epoch 10/15\n",
      "2000/2000 [==============================] - 29s 15ms/step - loss: 0.3717 - accuracy: 0.8385 - val_loss: 0.5112 - val_accuracy: 0.7499\n",
      "\n",
      "Epoch 00010: val_accuracy did not improve from 0.78863\n",
      "Epoch 11/15\n",
      "2000/2000 [==============================] - 30s 15ms/step - loss: 0.3677 - accuracy: 0.8403 - val_loss: 0.5186 - val_accuracy: 0.7455\n",
      "\n",
      "Epoch 00011: val_accuracy did not improve from 0.78863\n",
      "\n",
      "Epoch 00011: ReduceLROnPlateau reducing learning rate to 1.249999968422344e-05.\n",
      "Epoch 12/15\n",
      "2000/2000 [==============================] - 31s 16ms/step - loss: 0.3638 - accuracy: 0.8420 - val_loss: 0.4834 - val_accuracy: 0.7669\n",
      "\n",
      "Epoch 00012: val_accuracy did not improve from 0.78863\n",
      "Epoch 13/15\n",
      "2000/2000 [==============================] - 29s 14ms/step - loss: 0.3629 - accuracy: 0.8419 - val_loss: 0.5164 - val_accuracy: 0.7454\n",
      "\n",
      "Epoch 00013: val_accuracy did not improve from 0.78863\n",
      "\n",
      "Epoch 00013: ReduceLROnPlateau reducing learning rate to 1e-05.\n",
      "Epoch 14/15\n",
      "2000/2000 [==============================] - 29s 15ms/step - loss: 0.3599 - accuracy: 0.8431 - val_loss: 0.5069 - val_accuracy: 0.7531\n",
      "\n",
      "Epoch 00014: val_accuracy did not improve from 0.78863\n",
      "Epoch 15/15\n",
      "2000/2000 [==============================] - 29s 14ms/step - loss: 0.3592 - accuracy: 0.8438 - val_loss: 0.5195 - val_accuracy: 0.7414\n",
      "\n",
      "Epoch 00015: val_accuracy did not improve from 0.78863\n"
     ]
    }
   ],
   "source": [
    "model2.compile(Adam(learning_rate=0.0001), loss='binary_crossentropy', metrics=['accuracy'])\n",
    "\n",
    "checkpoint = ModelCheckpoint(\"model2.h5\", monitor='val_accuracy', verbose=1, save_best_only=True, mode='max')\n",
    "reduce_lr = ReduceLROnPlateau(monitor='val_accuracy', factor=0.5, patience=2, verbose=1, mode='max', min_lr=0.00001)\n",
    "\n",
    "callbacks_list = [checkpoint, reduce_lr]\n",
    "\n",
    "history2 = model2.fit(\n",
    "    train_gen,\n",
    "    steps_per_epoch=train_steps,\n",
    "    validation_data=val_gen,\n",
    "    validation_steps=val_steps,\n",
    "    epochs=15,\n",
    "    callbacks=callbacks_list\n",
    ")"
   ]
  },
  {
   "cell_type": "code",
   "execution_count": 247,
   "id": "94489fa9",
   "metadata": {},
   "outputs": [
    {
     "name": "stdout",
     "output_type": "stream",
     "text": [
      "16000/16000 [==============================] - 21s 1ms/step - loss: 0.4747 - accuracy: 0.7886\n",
      "Test loss: 0.475\n",
      "Test accuracy: 0.789\n"
     ]
    }
   ],
   "source": [
    "model2.load_weights('model2.h5')\n",
    "\n",
    "loss, accuracy = model2.evaluate(test_gen)\n",
    "\n",
    "print(f\"Test loss: {loss:.3f}\")\n",
    "print(f\"Test accuracy: {accuracy:.3f}\")\n"
   ]
  },
  {
   "cell_type": "code",
   "execution_count": 248,
   "id": "f493426e",
   "metadata": {},
   "outputs": [],
   "source": [
    "results.loc[1] = ['dropout', loss, accuracy]"
   ]
  },
  {
   "cell_type": "markdown",
   "id": "c824819b",
   "metadata": {},
   "source": [
    "Adding regularization lowered the accuracy to 0.79, suggesting that it was overfitting before.\n",
    "\n",
    "## Increasing Filter Sizes\n",
    "\n",
    "Let's try having increasing convolutional filters (32, 64 & 128). "
   ]
  },
  {
   "cell_type": "code",
   "execution_count": 177,
   "id": "54a81eb9",
   "metadata": {},
   "outputs": [
    {
     "name": "stdout",
     "output_type": "stream",
     "text": [
      "Model: \"sequential_23\"\n",
      "_________________________________________________________________\n",
      "Layer (type)                 Output Shape              Param #   \n",
      "=================================================================\n",
      "conv2d_99 (Conv2D)           (None, 94, 94, 32)        896       \n",
      "_________________________________________________________________\n",
      "max_pooling2d_66 (MaxPooling (None, 47, 47, 32)        0         \n",
      "_________________________________________________________________\n",
      "dropout_44 (Dropout)         (None, 47, 47, 32)        0         \n",
      "_________________________________________________________________\n",
      "conv2d_100 (Conv2D)          (None, 45, 45, 64)        18496     \n",
      "_________________________________________________________________\n",
      "max_pooling2d_67 (MaxPooling (None, 22, 22, 64)        0         \n",
      "_________________________________________________________________\n",
      "dropout_45 (Dropout)         (None, 22, 22, 64)        0         \n",
      "_________________________________________________________________\n",
      "conv2d_101 (Conv2D)          (None, 20, 20, 128)       73856     \n",
      "_________________________________________________________________\n",
      "max_pooling2d_68 (MaxPooling (None, 10, 10, 128)       0         \n",
      "_________________________________________________________________\n",
      "dropout_46 (Dropout)         (None, 10, 10, 128)       0         \n",
      "_________________________________________________________________\n",
      "flatten_22 (Flatten)         (None, 12800)             0         \n",
      "_________________________________________________________________\n",
      "dense_44 (Dense)             (None, 128)               1638528   \n",
      "_________________________________________________________________\n",
      "dropout_47 (Dropout)         (None, 128)               0         \n",
      "_________________________________________________________________\n",
      "dense_45 (Dense)             (None, 2)                 258       \n",
      "=================================================================\n",
      "Total params: 1,732,034\n",
      "Trainable params: 1,732,034\n",
      "Non-trainable params: 0\n",
      "_________________________________________________________________\n"
     ]
    }
   ],
   "source": [
    "dropout_conv = 0.3\n",
    "dropout_dense = 0.3\n",
    "\n",
    "model3 = tf.keras.Sequential([\n",
    "    tf.keras.layers.Conv2D(32, 3, activation='relu', input_shape = (96, 96, 3)),\n",
    "    tf.keras.layers.MaxPooling2D(),\n",
    "    tf.keras.layers.Dropout(dropout_conv),\n",
    "    tf.keras.layers.Conv2D(64, 3, activation='relu'),\n",
    "    tf.keras.layers.MaxPooling2D(),\n",
    "    tf.keras.layers.Dropout(dropout_conv),\n",
    "    tf.keras.layers.Conv2D(128, 3, activation='relu'),\n",
    "    tf.keras.layers.MaxPooling2D(),\n",
    "    tf.keras.layers.Dropout(dropout_conv),\n",
    "    tf.keras.layers.Flatten(),\n",
    "    tf.keras.layers.Dense(128, activation='relu'),\n",
    "    tf.keras.layers.Dropout(dropout_dense),\n",
    "    tf.keras.layers.Dense(num_classes, activation='softmax')\n",
    "])\n",
    "\n",
    "model3.summary()"
   ]
  },
  {
   "cell_type": "code",
   "execution_count": 178,
   "id": "b388f75d",
   "metadata": {},
   "outputs": [
    {
     "name": "stdout",
     "output_type": "stream",
     "text": [
      "Epoch 1/15\n",
      "2000/2000 [==============================] - 31s 15ms/step - loss: 0.5273 - accuracy: 0.7398 - val_loss: 0.5117 - val_accuracy: 0.7864\n",
      "\n",
      "Epoch 00001: val_accuracy improved from -inf to 0.78637, saving model to model3.h5\n",
      "Epoch 2/15\n",
      "2000/2000 [==============================] - 29s 15ms/step - loss: 0.4681 - accuracy: 0.7859 - val_loss: 0.4810 - val_accuracy: 0.7843\n",
      "\n",
      "Epoch 00002: val_accuracy did not improve from 0.78637\n",
      "Epoch 3/15\n",
      "2000/2000 [==============================] - 29s 14ms/step - loss: 0.4492 - accuracy: 0.7968 - val_loss: 0.4531 - val_accuracy: 0.8117\n",
      "\n",
      "Epoch 00003: val_accuracy improved from 0.78637 to 0.81169, saving model to model3.h5\n",
      "Epoch 4/15\n",
      "2000/2000 [==============================] - 29s 15ms/step - loss: 0.4274 - accuracy: 0.8082 - val_loss: 0.4493 - val_accuracy: 0.7989\n",
      "\n",
      "Epoch 00004: val_accuracy did not improve from 0.81169\n",
      "Epoch 5/15\n",
      "2000/2000 [==============================] - 29s 14ms/step - loss: 0.4049 - accuracy: 0.8188 - val_loss: 0.4453 - val_accuracy: 0.7936\n",
      "\n",
      "Epoch 00005: val_accuracy did not improve from 0.81169\n",
      "\n",
      "Epoch 00005: ReduceLROnPlateau reducing learning rate to 4.999999873689376e-05.\n",
      "Epoch 6/15\n",
      "2000/2000 [==============================] - 29s 15ms/step - loss: 0.3828 - accuracy: 0.8313 - val_loss: 0.4533 - val_accuracy: 0.7942\n",
      "\n",
      "Epoch 00006: val_accuracy did not improve from 0.81169\n",
      "Epoch 7/15\n",
      "2000/2000 [==============================] - 29s 15ms/step - loss: 0.3709 - accuracy: 0.8383 - val_loss: 0.4248 - val_accuracy: 0.8113\n",
      "\n",
      "Epoch 00007: val_accuracy did not improve from 0.81169\n",
      "\n",
      "Epoch 00007: ReduceLROnPlateau reducing learning rate to 2.499999936844688e-05.\n",
      "Epoch 8/15\n",
      "2000/2000 [==============================] - 29s 15ms/step - loss: 0.3563 - accuracy: 0.8455 - val_loss: 0.4225 - val_accuracy: 0.8094\n",
      "\n",
      "Epoch 00008: val_accuracy did not improve from 0.81169\n",
      "Epoch 9/15\n",
      "2000/2000 [==============================] - 30s 15ms/step - loss: 0.3510 - accuracy: 0.8489 - val_loss: 0.4163 - val_accuracy: 0.8127\n",
      "\n",
      "Epoch 00009: val_accuracy improved from 0.81169 to 0.81269, saving model to model3.h5\n",
      "Epoch 10/15\n",
      "2000/2000 [==============================] - 30s 15ms/step - loss: 0.3476 - accuracy: 0.8504 - val_loss: 0.3859 - val_accuracy: 0.8348\n",
      "\n",
      "Epoch 00010: val_accuracy improved from 0.81269 to 0.83481, saving model to model3.h5\n",
      "Epoch 11/15\n",
      "2000/2000 [==============================] - 29s 15ms/step - loss: 0.3437 - accuracy: 0.8525 - val_loss: 0.3892 - val_accuracy: 0.8318\n",
      "\n",
      "Epoch 00011: val_accuracy did not improve from 0.83481\n",
      "Epoch 12/15\n",
      "2000/2000 [==============================] - 30s 15ms/step - loss: 0.3396 - accuracy: 0.8541 - val_loss: 0.3886 - val_accuracy: 0.8304\n",
      "\n",
      "Epoch 00012: val_accuracy did not improve from 0.83481\n",
      "\n",
      "Epoch 00012: ReduceLROnPlateau reducing learning rate to 1.249999968422344e-05.\n",
      "Epoch 13/15\n",
      "2000/2000 [==============================] - 30s 15ms/step - loss: 0.3338 - accuracy: 0.8573 - val_loss: 0.3817 - val_accuracy: 0.8332\n",
      "\n",
      "Epoch 00013: val_accuracy did not improve from 0.83481\n",
      "Epoch 14/15\n",
      "2000/2000 [==============================] - 30s 15ms/step - loss: 0.3300 - accuracy: 0.8586 - val_loss: 0.3931 - val_accuracy: 0.8269\n",
      "\n",
      "Epoch 00014: val_accuracy did not improve from 0.83481\n",
      "\n",
      "Epoch 00014: ReduceLROnPlateau reducing learning rate to 1e-05.\n",
      "Epoch 15/15\n",
      "2000/2000 [==============================] - 30s 15ms/step - loss: 0.3298 - accuracy: 0.8592 - val_loss: 0.3920 - val_accuracy: 0.8253\n",
      "\n",
      "Epoch 00015: val_accuracy did not improve from 0.83481\n"
     ]
    }
   ],
   "source": [
    "model3.compile(Adam(learning_rate=0.0001), loss='binary_crossentropy', metrics=['accuracy'])\n",
    "\n",
    "checkpoint = ModelCheckpoint(\"model3.h5\", monitor='val_accuracy', verbose=1, save_best_only=True, mode='max')\n",
    "reduce_lr = ReduceLROnPlateau(monitor='val_accuracy', factor=0.5, patience=2, verbose=1, mode='max', min_lr=0.00001)\n",
    "\n",
    "callbacks_list = [checkpoint, reduce_lr]\n",
    "\n",
    "history3 = model3.fit(\n",
    "    train_gen,\n",
    "    steps_per_epoch=train_steps,\n",
    "    validation_data=val_gen,\n",
    "    validation_steps=val_steps,\n",
    "    epochs=15,\n",
    "    callbacks=callbacks_list\n",
    ")"
   ]
  },
  {
   "cell_type": "code",
   "execution_count": 254,
   "id": "cbddc1a8",
   "metadata": {},
   "outputs": [
    {
     "name": "stdout",
     "output_type": "stream",
     "text": [
      "16000/16000 [==============================] - 19s 1ms/step - loss: 0.3859 - accuracy: 0.8348\n",
      "Test loss: 0.386\n",
      "Test accuracy: 0.835\n"
     ]
    }
   ],
   "source": [
    "model3.load_weights('model3.h5')\n",
    "\n",
    "loss, accuracy = model3.evaluate(test_gen)\n",
    "\n",
    "print(f\"Test loss: {loss:.3f}\")\n",
    "print(f\"Test accuracy: {accuracy:.3f}\")"
   ]
  },
  {
   "cell_type": "code",
   "execution_count": 255,
   "id": "e1c29961",
   "metadata": {},
   "outputs": [],
   "source": [
    "results.loc[2] = ['dropout+inc_filters', loss, accuracy]"
   ]
  },
  {
   "cell_type": "markdown",
   "id": "95c95b22",
   "metadata": {},
   "source": [
    "Adding increasing filter sizes increased the accuracy without it overfitting\n",
    "\n",
    "## Larger Dense Layer\n",
    "\n",
    "Let's try doubling the size of the dense layer to 256"
   ]
  },
  {
   "cell_type": "code",
   "execution_count": 180,
   "id": "b72c45be",
   "metadata": {
    "scrolled": false
   },
   "outputs": [
    {
     "name": "stdout",
     "output_type": "stream",
     "text": [
      "Model: \"sequential_24\"\n",
      "_________________________________________________________________\n",
      "Layer (type)                 Output Shape              Param #   \n",
      "=================================================================\n",
      "conv2d_102 (Conv2D)          (None, 94, 94, 32)        896       \n",
      "_________________________________________________________________\n",
      "max_pooling2d_69 (MaxPooling (None, 47, 47, 32)        0         \n",
      "_________________________________________________________________\n",
      "dropout_48 (Dropout)         (None, 47, 47, 32)        0         \n",
      "_________________________________________________________________\n",
      "conv2d_103 (Conv2D)          (None, 45, 45, 64)        18496     \n",
      "_________________________________________________________________\n",
      "max_pooling2d_70 (MaxPooling (None, 22, 22, 64)        0         \n",
      "_________________________________________________________________\n",
      "dropout_49 (Dropout)         (None, 22, 22, 64)        0         \n",
      "_________________________________________________________________\n",
      "conv2d_104 (Conv2D)          (None, 20, 20, 128)       73856     \n",
      "_________________________________________________________________\n",
      "max_pooling2d_71 (MaxPooling (None, 10, 10, 128)       0         \n",
      "_________________________________________________________________\n",
      "dropout_50 (Dropout)         (None, 10, 10, 128)       0         \n",
      "_________________________________________________________________\n",
      "flatten_23 (Flatten)         (None, 12800)             0         \n",
      "_________________________________________________________________\n",
      "dense_46 (Dense)             (None, 256)               3277056   \n",
      "_________________________________________________________________\n",
      "dropout_51 (Dropout)         (None, 256)               0         \n",
      "_________________________________________________________________\n",
      "dense_47 (Dense)             (None, 2)                 514       \n",
      "=================================================================\n",
      "Total params: 3,370,818\n",
      "Trainable params: 3,370,818\n",
      "Non-trainable params: 0\n",
      "_________________________________________________________________\n"
     ]
    }
   ],
   "source": [
    "dropout_conv = 0.3\n",
    "dropout_dense = 0.3\n",
    "\n",
    "model4 = tf.keras.Sequential([\n",
    "    tf.keras.layers.Conv2D(32, 3, activation='relu', input_shape = (96, 96, 3)),\n",
    "    tf.keras.layers.MaxPooling2D(),\n",
    "    tf.keras.layers.Dropout(dropout_conv),\n",
    "    tf.keras.layers.Conv2D(64, 3, activation='relu'),\n",
    "    tf.keras.layers.MaxPooling2D(),\n",
    "    tf.keras.layers.Dropout(dropout_conv),\n",
    "    tf.keras.layers.Conv2D(128, 3, activation='relu'),\n",
    "    tf.keras.layers.MaxPooling2D(),\n",
    "    tf.keras.layers.Dropout(dropout_conv),\n",
    "    tf.keras.layers.Flatten(),\n",
    "    tf.keras.layers.Dense(256, activation='relu'),\n",
    "    tf.keras.layers.Dropout(dropout_dense),\n",
    "    tf.keras.layers.Dense(num_classes, activation='softmax')\n",
    "])\n",
    "\n",
    "model4.summary()"
   ]
  },
  {
   "cell_type": "code",
   "execution_count": 181,
   "id": "2db5aeb7",
   "metadata": {},
   "outputs": [
    {
     "name": "stdout",
     "output_type": "stream",
     "text": [
      "Epoch 1/15\n",
      "2000/2000 [==============================] - 30s 15ms/step - loss: 0.5129 - accuracy: 0.7520 - val_loss: 0.5197 - val_accuracy: 0.7594\n",
      "\n",
      "Epoch 00001: val_accuracy improved from -inf to 0.75937, saving model to model4.h5\n",
      "Epoch 2/15\n",
      "2000/2000 [==============================] - 30s 15ms/step - loss: 0.4628 - accuracy: 0.7870 - val_loss: 0.4827 - val_accuracy: 0.7793\n",
      "\n",
      "Epoch 00002: val_accuracy improved from 0.75937 to 0.77925, saving model to model4.h5\n",
      "Epoch 3/15\n",
      "2000/2000 [==============================] - 29s 14ms/step - loss: 0.4380 - accuracy: 0.8015 - val_loss: 0.4614 - val_accuracy: 0.7934\n",
      "\n",
      "Epoch 00003: val_accuracy improved from 0.77925 to 0.79344, saving model to model4.h5\n",
      "Epoch 4/15\n",
      "2000/2000 [==============================] - 29s 15ms/step - loss: 0.4157 - accuracy: 0.8140 - val_loss: 0.4971 - val_accuracy: 0.7473\n",
      "\n",
      "Epoch 00004: val_accuracy did not improve from 0.79344\n",
      "Epoch 5/15\n",
      "2000/2000 [==============================] - 30s 15ms/step - loss: 0.3926 - accuracy: 0.8265 - val_loss: 0.5666 - val_accuracy: 0.7237\n",
      "\n",
      "Epoch 00005: val_accuracy did not improve from 0.79344\n",
      "\n",
      "Epoch 00005: ReduceLROnPlateau reducing learning rate to 4.999999873689376e-05.\n",
      "Epoch 6/15\n",
      "2000/2000 [==============================] - 30s 15ms/step - loss: 0.3743 - accuracy: 0.8373 - val_loss: 0.5696 - val_accuracy: 0.7111\n",
      "\n",
      "Epoch 00006: val_accuracy did not improve from 0.79344\n",
      "Epoch 7/15\n",
      "2000/2000 [==============================] - 29s 14ms/step - loss: 0.3639 - accuracy: 0.8423 - val_loss: 0.5611 - val_accuracy: 0.7216\n",
      "\n",
      "Epoch 00007: val_accuracy did not improve from 0.79344\n",
      "\n",
      "Epoch 00007: ReduceLROnPlateau reducing learning rate to 2.499999936844688e-05.\n",
      "Epoch 8/15\n",
      "2000/2000 [==============================] - 29s 14ms/step - loss: 0.3531 - accuracy: 0.8470 - val_loss: 0.5712 - val_accuracy: 0.7110\n",
      "\n",
      "Epoch 00008: val_accuracy did not improve from 0.79344\n",
      "Epoch 9/15\n",
      "2000/2000 [==============================] - 29s 15ms/step - loss: 0.3487 - accuracy: 0.8496 - val_loss: 0.5377 - val_accuracy: 0.7324\n",
      "\n",
      "Epoch 00009: val_accuracy did not improve from 0.79344\n",
      "\n",
      "Epoch 00009: ReduceLROnPlateau reducing learning rate to 1.249999968422344e-05.\n",
      "Epoch 10/15\n",
      "2000/2000 [==============================] - 29s 15ms/step - loss: 0.3433 - accuracy: 0.8519 - val_loss: 0.5754 - val_accuracy: 0.7128\n",
      "\n",
      "Epoch 00010: val_accuracy did not improve from 0.79344\n",
      "Epoch 11/15\n",
      "2000/2000 [==============================] - 29s 14ms/step - loss: 0.3415 - accuracy: 0.8531 - val_loss: 0.5467 - val_accuracy: 0.7286\n",
      "\n",
      "Epoch 00011: val_accuracy did not improve from 0.79344\n",
      "\n",
      "Epoch 00011: ReduceLROnPlateau reducing learning rate to 1e-05.\n",
      "Epoch 12/15\n",
      "2000/2000 [==============================] - 30s 15ms/step - loss: 0.3390 - accuracy: 0.8546 - val_loss: 0.5758 - val_accuracy: 0.7163\n",
      "\n",
      "Epoch 00012: val_accuracy did not improve from 0.79344\n",
      "Epoch 13/15\n",
      "2000/2000 [==============================] - 29s 14ms/step - loss: 0.3368 - accuracy: 0.8565 - val_loss: 0.5813 - val_accuracy: 0.7211\n",
      "\n",
      "Epoch 00013: val_accuracy did not improve from 0.79344\n",
      "Epoch 14/15\n",
      "2000/2000 [==============================] - 29s 14ms/step - loss: 0.3360 - accuracy: 0.8557 - val_loss: 0.6073 - val_accuracy: 0.7021\n",
      "\n",
      "Epoch 00014: val_accuracy did not improve from 0.79344\n",
      "Epoch 15/15\n",
      "2000/2000 [==============================] - 29s 15ms/step - loss: 0.3340 - accuracy: 0.8560 - val_loss: 0.6173 - val_accuracy: 0.6997\n",
      "\n",
      "Epoch 00015: val_accuracy did not improve from 0.79344\n"
     ]
    }
   ],
   "source": [
    "model4.compile(Adam(learning_rate=0.0001), loss='binary_crossentropy', metrics=['accuracy'])\n",
    "\n",
    "checkpoint = ModelCheckpoint(\"model4.h5\", monitor='val_accuracy', verbose=1, save_best_only=True, mode='max')\n",
    "reduce_lr = ReduceLROnPlateau(monitor='val_accuracy', factor=0.5, patience=2, verbose=1, mode='max', min_lr=0.00001)\n",
    "\n",
    "callbacks_list = [checkpoint, reduce_lr]\n",
    "\n",
    "history4 = model4.fit(\n",
    "    train_gen,\n",
    "    steps_per_epoch=train_steps,\n",
    "    validation_data=val_gen,\n",
    "    validation_steps=val_steps,\n",
    "    epochs=15,\n",
    "    callbacks=callbacks_list\n",
    ")"
   ]
  },
  {
   "cell_type": "code",
   "execution_count": 256,
   "id": "b5dceb52",
   "metadata": {},
   "outputs": [
    {
     "name": "stdout",
     "output_type": "stream",
     "text": [
      "16000/16000 [==============================] - 20s 1ms/step - loss: 0.4614 - accuracy: 0.7934\n",
      "Test loss: 0.461\n",
      "Test accuracy: 0.793\n"
     ]
    }
   ],
   "source": [
    "model4.load_weights('model4.h5')\n",
    "\n",
    "loss, accuracy = model4.evaluate(test_gen)\n",
    "\n",
    "print(f\"Test loss: {loss:.3f}\")\n",
    "print(f\"Test accuracy: {accuracy:.3f}\")"
   ]
  },
  {
   "cell_type": "code",
   "execution_count": 257,
   "id": "123735f0",
   "metadata": {},
   "outputs": [],
   "source": [
    "results.loc[3] = ['dropout+inc_filters+larger_dense', loss, accuracy]"
   ]
  },
  {
   "cell_type": "markdown",
   "id": "59af8fe4",
   "metadata": {},
   "source": [
    "A larger dense layer reduced the accuracy to 0.79, suggesting that a more complex architecture isn't necessarily better. \n",
    "\n",
    "# Duplicating Convolutions\n",
    "\n",
    "Let's try repeating the convolutional layers"
   ]
  },
  {
   "cell_type": "code",
   "execution_count": 183,
   "id": "4d62a751",
   "metadata": {},
   "outputs": [
    {
     "name": "stdout",
     "output_type": "stream",
     "text": [
      "Model: \"sequential_25\"\n",
      "_________________________________________________________________\n",
      "Layer (type)                 Output Shape              Param #   \n",
      "=================================================================\n",
      "conv2d_105 (Conv2D)          (None, 94, 94, 32)        896       \n",
      "_________________________________________________________________\n",
      "conv2d_106 (Conv2D)          (None, 92, 92, 32)        9248      \n",
      "_________________________________________________________________\n",
      "conv2d_107 (Conv2D)          (None, 90, 90, 32)        9248      \n",
      "_________________________________________________________________\n",
      "max_pooling2d_72 (MaxPooling (None, 45, 45, 32)        0         \n",
      "_________________________________________________________________\n",
      "dropout_52 (Dropout)         (None, 45, 45, 32)        0         \n",
      "_________________________________________________________________\n",
      "conv2d_108 (Conv2D)          (None, 43, 43, 64)        18496     \n",
      "_________________________________________________________________\n",
      "conv2d_109 (Conv2D)          (None, 41, 41, 64)        36928     \n",
      "_________________________________________________________________\n",
      "conv2d_110 (Conv2D)          (None, 39, 39, 64)        36928     \n",
      "_________________________________________________________________\n",
      "max_pooling2d_73 (MaxPooling (None, 19, 19, 64)        0         \n",
      "_________________________________________________________________\n",
      "dropout_53 (Dropout)         (None, 19, 19, 64)        0         \n",
      "_________________________________________________________________\n",
      "conv2d_111 (Conv2D)          (None, 17, 17, 128)       73856     \n",
      "_________________________________________________________________\n",
      "conv2d_112 (Conv2D)          (None, 15, 15, 128)       147584    \n",
      "_________________________________________________________________\n",
      "conv2d_113 (Conv2D)          (None, 13, 13, 128)       147584    \n",
      "_________________________________________________________________\n",
      "max_pooling2d_74 (MaxPooling (None, 6, 6, 128)         0         \n",
      "_________________________________________________________________\n",
      "dropout_54 (Dropout)         (None, 6, 6, 128)         0         \n",
      "_________________________________________________________________\n",
      "flatten_24 (Flatten)         (None, 4608)              0         \n",
      "_________________________________________________________________\n",
      "dense_48 (Dense)             (None, 128)               589952    \n",
      "_________________________________________________________________\n",
      "dropout_55 (Dropout)         (None, 128)               0         \n",
      "_________________________________________________________________\n",
      "dense_49 (Dense)             (None, 2)                 258       \n",
      "=================================================================\n",
      "Total params: 1,070,978\n",
      "Trainable params: 1,070,978\n",
      "Non-trainable params: 0\n",
      "_________________________________________________________________\n"
     ]
    }
   ],
   "source": [
    "dropout_conv = 0.3\n",
    "dropout_dense = 0.3\n",
    "\n",
    "model5 = tf.keras.Sequential([\n",
    "    tf.keras.layers.Conv2D(32, 3, activation='relu', input_shape = (96, 96, 3)),\n",
    "    tf.keras.layers.Conv2D(32, 3, activation='relu'),\n",
    "    tf.keras.layers.Conv2D(32, 3, activation='relu'),\n",
    "    tf.keras.layers.MaxPooling2D(),\n",
    "    tf.keras.layers.Dropout(dropout_conv),\n",
    "    tf.keras.layers.Conv2D(64, 3, activation='relu'),\n",
    "    tf.keras.layers.Conv2D(64, 3, activation='relu'),\n",
    "    tf.keras.layers.Conv2D(64, 3, activation='relu'),\n",
    "    tf.keras.layers.MaxPooling2D(),\n",
    "    tf.keras.layers.Dropout(dropout_conv),\n",
    "    tf.keras.layers.Conv2D(128, 3, activation='relu'),\n",
    "    tf.keras.layers.Conv2D(128, 3, activation='relu'),\n",
    "    tf.keras.layers.Conv2D(128, 3, activation='relu'),\n",
    "    tf.keras.layers.MaxPooling2D(),\n",
    "    tf.keras.layers.Dropout(dropout_conv),\n",
    "    tf.keras.layers.Flatten(),\n",
    "    tf.keras.layers.Dense(128, activation='relu'),\n",
    "    tf.keras.layers.Dropout(dropout_dense),\n",
    "    tf.keras.layers.Dense(num_classes, activation='softmax')\n",
    "])\n",
    "\n",
    "model5.summary()"
   ]
  },
  {
   "cell_type": "code",
   "execution_count": 184,
   "id": "50c94c8c",
   "metadata": {},
   "outputs": [
    {
     "name": "stdout",
     "output_type": "stream",
     "text": [
      "Epoch 1/15\n",
      "2000/2000 [==============================] - 36s 18ms/step - loss: 0.4965 - accuracy: 0.7617 - val_loss: 0.4834 - val_accuracy: 0.7721\n",
      "\n",
      "Epoch 00001: val_accuracy improved from -inf to 0.77206, saving model to model5.h5\n",
      "Epoch 2/15\n",
      "2000/2000 [==============================] - 35s 18ms/step - loss: 0.4374 - accuracy: 0.8042 - val_loss: 0.4954 - val_accuracy: 0.7918\n",
      "\n",
      "Epoch 00002: val_accuracy improved from 0.77206 to 0.79175, saving model to model5.h5\n",
      "Epoch 3/15\n",
      "2000/2000 [==============================] - 35s 17ms/step - loss: 0.3903 - accuracy: 0.8275 - val_loss: 0.4573 - val_accuracy: 0.7922\n",
      "\n",
      "Epoch 00003: val_accuracy improved from 0.79175 to 0.79219, saving model to model5.h5\n",
      "Epoch 4/15\n",
      "2000/2000 [==============================] - 35s 17ms/step - loss: 0.3559 - accuracy: 0.8455 - val_loss: 0.3900 - val_accuracy: 0.8326\n",
      "\n",
      "Epoch 00004: val_accuracy improved from 0.79219 to 0.83256, saving model to model5.h5\n",
      "Epoch 5/15\n",
      "2000/2000 [==============================] - 35s 18ms/step - loss: 0.3354 - accuracy: 0.8562 - val_loss: 0.4704 - val_accuracy: 0.8019\n",
      "\n",
      "Epoch 00005: val_accuracy did not improve from 0.83256\n",
      "Epoch 6/15\n",
      "2000/2000 [==============================] - 35s 18ms/step - loss: 0.3195 - accuracy: 0.8637 - val_loss: 0.4026 - val_accuracy: 0.8371\n",
      "\n",
      "Epoch 00006: val_accuracy improved from 0.83256 to 0.83713, saving model to model5.h5\n",
      "Epoch 7/15\n",
      "2000/2000 [==============================] - 35s 17ms/step - loss: 0.3040 - accuracy: 0.8714 - val_loss: 0.3094 - val_accuracy: 0.8661\n",
      "\n",
      "Epoch 00007: val_accuracy improved from 0.83713 to 0.86606, saving model to model5.h5\n",
      "Epoch 8/15\n",
      "2000/2000 [==============================] - 37s 18ms/step - loss: 0.2912 - accuracy: 0.8770 - val_loss: 0.4509 - val_accuracy: 0.8086\n",
      "\n",
      "Epoch 00008: val_accuracy did not improve from 0.86606\n",
      "Epoch 9/15\n",
      "2000/2000 [==============================] - 36s 18ms/step - loss: 0.2832 - accuracy: 0.8807 - val_loss: 0.3136 - val_accuracy: 0.8730\n",
      "\n",
      "Epoch 00009: val_accuracy improved from 0.86606 to 0.87300, saving model to model5.h5\n",
      "Epoch 10/15\n",
      "2000/2000 [==============================] - 36s 18ms/step - loss: 0.2778 - accuracy: 0.8851 - val_loss: 0.2951 - val_accuracy: 0.8733\n",
      "\n",
      "Epoch 00010: val_accuracy improved from 0.87300 to 0.87325, saving model to model5.h5\n",
      "Epoch 11/15\n",
      "2000/2000 [==============================] - 35s 18ms/step - loss: 0.2668 - accuracy: 0.8910 - val_loss: 0.3385 - val_accuracy: 0.8609\n",
      "\n",
      "Epoch 00011: val_accuracy did not improve from 0.87325\n",
      "Epoch 12/15\n",
      "2000/2000 [==============================] - 35s 17ms/step - loss: 0.2593 - accuracy: 0.8936 - val_loss: 0.4421 - val_accuracy: 0.8183\n",
      "\n",
      "Epoch 00012: val_accuracy did not improve from 0.87325\n",
      "\n",
      "Epoch 00012: ReduceLROnPlateau reducing learning rate to 4.999999873689376e-05.\n",
      "Epoch 13/15\n",
      "2000/2000 [==============================] - 35s 18ms/step - loss: 0.2377 - accuracy: 0.9043 - val_loss: 0.4146 - val_accuracy: 0.8164\n",
      "\n",
      "Epoch 00013: val_accuracy did not improve from 0.87325\n",
      "Epoch 14/15\n",
      "2000/2000 [==============================] - 36s 18ms/step - loss: 0.2317 - accuracy: 0.9072 - val_loss: 0.2400 - val_accuracy: 0.9051\n",
      "\n",
      "Epoch 00014: val_accuracy improved from 0.87325 to 0.90506, saving model to model5.h5\n",
      "Epoch 15/15\n",
      "2000/2000 [==============================] - 36s 18ms/step - loss: 0.2282 - accuracy: 0.9094 - val_loss: 0.2944 - val_accuracy: 0.8759\n",
      "\n",
      "Epoch 00015: val_accuracy did not improve from 0.90506\n"
     ]
    }
   ],
   "source": [
    "model5.compile(Adam(learning_rate=0.0001), loss='binary_crossentropy', metrics=['accuracy'])\n",
    "\n",
    "checkpoint = ModelCheckpoint(\"model5.h5\", monitor='val_accuracy', verbose=1, save_best_only=True, mode='max')\n",
    "reduce_lr = ReduceLROnPlateau(monitor='val_accuracy', factor=0.5, patience=2, verbose=1, mode='max', min_lr=0.00001)\n",
    "\n",
    "callbacks_list = [checkpoint, reduce_lr]\n",
    "\n",
    "history5 = model5.fit(\n",
    "    train_gen,\n",
    "    steps_per_epoch=train_steps,\n",
    "    validation_data=val_gen,\n",
    "    validation_steps=val_steps,\n",
    "    epochs=15,\n",
    "    callbacks=callbacks_list\n",
    ")"
   ]
  },
  {
   "cell_type": "code",
   "execution_count": 258,
   "id": "cafe5eb7",
   "metadata": {},
   "outputs": [
    {
     "name": "stdout",
     "output_type": "stream",
     "text": [
      "16000/16000 [==============================] - 24s 1ms/step - loss: 0.2400 - accuracy: 0.9051\n",
      "Test loss: 0.240\n",
      "Test accuracy: 0.905\n"
     ]
    }
   ],
   "source": [
    "model5.load_weights('model5.h5')\n",
    "\n",
    "loss, accuracy = model5.evaluate(test_gen)\n",
    "\n",
    "print(f\"Test loss: {loss:.3f}\")\n",
    "print(f\"Test accuracy: {accuracy:.3f}\")"
   ]
  },
  {
   "cell_type": "code",
   "execution_count": 259,
   "id": "ebd0ad5f",
   "metadata": {},
   "outputs": [],
   "source": [
    "results.loc[4] = ['dropout+inc_filters+repeated_convs', loss, accuracy]"
   ]
  },
  {
   "cell_type": "code",
   "execution_count": 267,
   "id": "1dd673b5",
   "metadata": {
    "scrolled": true
   },
   "outputs": [
    {
     "data": {
      "text/html": [
       "<div>\n",
       "<style scoped>\n",
       "    .dataframe tbody tr th:only-of-type {\n",
       "        vertical-align: middle;\n",
       "    }\n",
       "\n",
       "    .dataframe tbody tr th {\n",
       "        vertical-align: top;\n",
       "    }\n",
       "\n",
       "    .dataframe thead th {\n",
       "        text-align: right;\n",
       "    }\n",
       "</style>\n",
       "<table border=\"1\" class=\"dataframe\">\n",
       "  <thead>\n",
       "    <tr style=\"text-align: right;\">\n",
       "      <th></th>\n",
       "      <th>model</th>\n",
       "      <th>loss</th>\n",
       "      <th>accuracy</th>\n",
       "    </tr>\n",
       "  </thead>\n",
       "  <tbody>\n",
       "    <tr>\n",
       "      <th>0</th>\n",
       "      <td>base</td>\n",
       "      <td>0.319171</td>\n",
       "      <td>0.867000</td>\n",
       "    </tr>\n",
       "    <tr>\n",
       "      <th>1</th>\n",
       "      <td>dropout</td>\n",
       "      <td>0.474660</td>\n",
       "      <td>0.788625</td>\n",
       "    </tr>\n",
       "    <tr>\n",
       "      <th>2</th>\n",
       "      <td>dropout+inc_filters</td>\n",
       "      <td>0.385878</td>\n",
       "      <td>0.834813</td>\n",
       "    </tr>\n",
       "    <tr>\n",
       "      <th>3</th>\n",
       "      <td>dropout+inc_filters+larger_dense</td>\n",
       "      <td>0.461351</td>\n",
       "      <td>0.793437</td>\n",
       "    </tr>\n",
       "    <tr>\n",
       "      <th>4</th>\n",
       "      <td>dropout+inc_filters+repeated_convs</td>\n",
       "      <td>0.240045</td>\n",
       "      <td>0.905062</td>\n",
       "    </tr>\n",
       "  </tbody>\n",
       "</table>\n",
       "</div>"
      ],
      "text/plain": [
       "                                model      loss  accuracy\n",
       "0                                base  0.319171  0.867000\n",
       "1                             dropout  0.474660  0.788625\n",
       "2                 dropout+inc_filters  0.385878  0.834813\n",
       "3    dropout+inc_filters+larger_dense  0.461351  0.793437\n",
       "4  dropout+inc_filters+repeated_convs  0.240045  0.905062"
      ]
     },
     "execution_count": 267,
     "metadata": {},
     "output_type": "execute_result"
    }
   ],
   "source": [
    "# results.sort_index(inplace=True)\n",
    "results"
   ]
  },
  {
   "cell_type": "code",
   "execution_count": 276,
   "id": "f4360408",
   "metadata": {},
   "outputs": [
    {
     "data": {
      "text/plain": [
       "<AxesSubplot: xlabel='model'>"
      ]
     },
     "execution_count": 276,
     "metadata": {},
     "output_type": "execute_result"
    },
    {
     "data": {
      "image/png": "[encoded data removed]",
      "text/plain": [
       "<Figure size 640x480 with 1 Axes>"
      ]
     },
     "metadata": {},
     "output_type": "display_data"
    }
   ],
   "source": [
    "results.plot(x=\"model\", y=[\"accuracy\", \"loss\"], kind='bar')"
   ]
  },
  {
   "cell_type": "markdown",
   "id": "6a3384e9",
   "metadata": {},
   "source": [
    "# Hyperparmeter Tuning\n",
    "\n",
    "Now that we have a solid architecture, let's use keras tuner to tune the hyperparameters. Let's tune the dropout percentage, the number of neurons in the densely connected layer and the learning rate. "
   ]
  },
  {
   "cell_type": "code",
   "execution_count": 292,
   "id": "dda5acb9",
   "metadata": {},
   "outputs": [],
   "source": [
    "def model_builder(hp):\n",
    "    # the hyperparameters to be tuned\n",
    "    hp_dropout = hp.Choice('dropout', values=[0.2, 0.5])\n",
    "    hp_units = hp.Choice('units', values=[64, 128, 256])\n",
    "    hp_learning_rate = hp.Choice('learning_rate', values=[1e-4, 1e-5])\n",
    "    \n",
    "    model = keras.Sequential()\n",
    "    model.add(tf.keras.layers.Conv2D(32, 3, activation='relu', input_shape = (96, 96, 3)))\n",
    "    model.add(tf.keras.layers.Conv2D(32, 3, activation='relu'))\n",
    "    model.add(tf.keras.layers.Conv2D(32, 3, activation='relu'))\n",
    "    model.add(tf.keras.layers.MaxPooling2D())\n",
    "    model.add(tf.keras.layers.Dropout(dropout_conv))\n",
    "\n",
    "    model.add(tf.keras.layers.Conv2D(64, 3, activation='relu'))\n",
    "    model.add(tf.keras.layers.Conv2D(64, 3, activation='relu'))\n",
    "    model.add(tf.keras.layers.Conv2D(64, 3, activation='relu'))\n",
    "    model.add(tf.keras.layers.MaxPooling2D())\n",
    "    model.add(tf.keras.layers.Dropout(dropout_conv))\n",
    "    \n",
    "    model.add(tf.keras.layers.Conv2D(128, 3, activation='relu'))\n",
    "    model.add(tf.keras.layers.Conv2D(128, 3, activation='relu'))\n",
    "    model.add(tf.keras.layers.Conv2D(128, 3, activation='relu'))\n",
    "    model.add(tf.keras.layers.MaxPooling2D())\n",
    "    model.add(tf.keras.layers.Dropout(dropout_conv))\n",
    "    \n",
    "    model.add(tf.keras.layers.Flatten())\n",
    "\n",
    "    model.add(keras.layers.Dense(units=hp_units, activation='relu'))\n",
    "    model.add(keras.layers.Dense(2, activation='softmax'))\n",
    "\n",
    "    model.compile(optimizer=keras.optimizers.Adam(learning_rate=hp_learning_rate),\n",
    "                loss='binary_crossentropy',\n",
    "                metrics=['accuracy'])\n",
    "\n",
    "    return model\n"
   ]
  },
  {
   "cell_type": "code",
   "execution_count": 293,
   "id": "fbece744",
   "metadata": {
    "scrolled": true
   },
   "outputs": [
    {
     "name": "stdout",
     "output_type": "stream",
     "text": [
      "Trial 18 Complete [00h 03m 47s]\n",
      "val_accuracy: 0.8261874914169312\n",
      "\n",
      "Best val_accuracy So Far: 0.8363749980926514\n",
      "Total elapsed time: 00h 26m 29s\n",
      "INFO:tensorflow:Oracle triggered exit\n",
      "<keras_tuner.engine.hyperparameters.HyperParameters object at 0x0000021763033940>\n"
     ]
    }
   ],
   "source": [
    "tuner = kt.Hyperband(model_builder, objective='val_accuracy', max_epochs=10)\n",
    "\n",
    "stop_early = tf.keras.callbacks.EarlyStopping(monitor='val_loss', patience=5)\n",
    "tuner_callbacks_list = [stop_early]\n",
    "\n",
    "# tuner.search(img_train, label_train, epochs=50, validation_split=0.2, callbacks=[stop_early])\n",
    "tuner.search(\n",
    "    train_gen,\n",
    "    steps_per_epoch=train_steps,\n",
    "    validation_data=val_gen,\n",
    "    validation_steps=val_steps,\n",
    "    epochs=15,\n",
    "    callbacks=tuner_callbacks_list\n",
    ")\n",
    "\n",
    "# Get the optimal hyperparameters\n",
    "best_hps=tuner.get_best_hyperparameters(num_trials=1)[0]\n",
    "\n",
    "\n",
    "# print(f\"\"\"\n",
    "# The optimal dropout_conv is {best_hps.get('dropout_conv')},\n",
    "# The optimal dropout_dense is {best_hps.get('dropout_dense')},\n",
    "# The optimal number of units in the last densely-connected layer is {best_hps.get('units')} and \n",
    "# the optimal learning rate for the optimizer is {best_hps.get('learning_rate')}.\n",
    "# \"\"\")"
   ]
  },
  {
   "cell_type": "code",
   "execution_count": 294,
   "id": "9ab09c8c",
   "metadata": {},
   "outputs": [
    {
     "name": "stdout",
     "output_type": "stream",
     "text": [
      "Results summary\n",
      "Results in .\\untitled_project\n",
      "Showing 10 best trials\n",
      "<keras_tuner.engine.objective.Objective object at 0x00000217631A66D0>\n",
      "Trial summary\n",
      "Hyperparameters:\n",
      "dropout: 0.2\n",
      "units: 128\n",
      "learning_rate: 0.0001\n",
      "tuner/epochs: 2\n",
      "tuner/initial_epoch: 0\n",
      "tuner/bracket: 2\n",
      "tuner/round: 0\n",
      "Score: 0.8363749980926514\n",
      "Trial summary\n",
      "Hyperparameters:\n",
      "dropout: 0.5\n",
      "units: 64\n",
      "learning_rate: 0.0001\n",
      "tuner/epochs: 2\n",
      "tuner/initial_epoch: 0\n",
      "tuner/bracket: 2\n",
      "tuner/round: 0\n",
      "Score: 0.8335000276565552\n",
      "Trial summary\n",
      "Hyperparameters:\n",
      "dropout: 0.5\n",
      "units: 64\n",
      "learning_rate: 0.0001\n",
      "tuner/epochs: 10\n",
      "tuner/initial_epoch: 4\n",
      "tuner/bracket: 2\n",
      "tuner/round: 2\n",
      "tuner/trial_id: 0013\n",
      "Score: 0.8261874914169312\n",
      "Trial summary\n",
      "Hyperparameters:\n",
      "dropout: 0.2\n",
      "units: 64\n",
      "learning_rate: 0.0001\n",
      "tuner/epochs: 4\n",
      "tuner/initial_epoch: 2\n",
      "tuner/bracket: 2\n",
      "tuner/round: 1\n",
      "tuner/trial_id: 0007\n",
      "Score: 0.8261250257492065\n",
      "Trial summary\n",
      "Hyperparameters:\n",
      "dropout: 0.5\n",
      "units: 64\n",
      "learning_rate: 0.0001\n",
      "tuner/epochs: 4\n",
      "tuner/initial_epoch: 2\n",
      "tuner/bracket: 2\n",
      "tuner/round: 1\n",
      "tuner/trial_id: 0005\n",
      "Score: 0.8151249885559082\n",
      "Trial summary\n",
      "Hyperparameters:\n",
      "dropout: 0.5\n",
      "units: 256\n",
      "learning_rate: 0.0001\n",
      "tuner/epochs: 4\n",
      "tuner/initial_epoch: 2\n",
      "tuner/bracket: 2\n",
      "tuner/round: 1\n",
      "tuner/trial_id: 0003\n",
      "Score: 0.8125625252723694\n",
      "Trial summary\n",
      "Hyperparameters:\n",
      "dropout: 0.2\n",
      "units: 64\n",
      "learning_rate: 0.0001\n",
      "tuner/epochs: 10\n",
      "tuner/initial_epoch: 4\n",
      "tuner/bracket: 2\n",
      "tuner/round: 2\n",
      "tuner/trial_id: 0015\n",
      "Score: 0.8121874928474426\n",
      "Trial summary\n",
      "Hyperparameters:\n",
      "dropout: 0.5\n",
      "units: 256\n",
      "learning_rate: 0.0001\n",
      "tuner/epochs: 2\n",
      "tuner/initial_epoch: 0\n",
      "tuner/bracket: 2\n",
      "tuner/round: 0\n",
      "Score: 0.8113750219345093\n",
      "Trial summary\n",
      "Hyperparameters:\n",
      "dropout: 0.2\n",
      "units: 128\n",
      "learning_rate: 0.0001\n",
      "tuner/epochs: 4\n",
      "tuner/initial_epoch: 2\n",
      "tuner/bracket: 2\n",
      "tuner/round: 1\n",
      "tuner/trial_id: 0009\n",
      "Score: 0.8070625066757202\n",
      "Trial summary\n",
      "Hyperparameters:\n",
      "dropout: 0.2\n",
      "units: 64\n",
      "learning_rate: 0.0001\n",
      "tuner/epochs: 2\n",
      "tuner/initial_epoch: 0\n",
      "tuner/bracket: 2\n",
      "tuner/round: 0\n",
      "Score: 0.8050000071525574\n"
     ]
    }
   ],
   "source": [
    "tuner.results_summary()"
   ]
  },
  {
   "cell_type": "markdown",
   "id": "a166ed3f",
   "metadata": {},
   "source": [
    "The best dropout was 0.2, the best number of densely connected neurons was 128 (which is what we began with) and the learning rate was 0.0001 (also what we began with)\n",
    "\n",
    "Let's train the hypertuned model for 20 epochs"
   ]
  },
  {
   "cell_type": "code",
   "execution_count": 296,
   "id": "2589d9a8",
   "metadata": {
    "scrolled": true
   },
   "outputs": [
    {
     "name": "stdout",
     "output_type": "stream",
     "text": [
      "Epoch 1/20\n",
      "2000/2000 [==============================] - 36s 18ms/step - loss: 0.4897 - accuracy: 0.7614 - val_loss: 0.4936 - val_accuracy: 0.7701\n",
      "\n",
      "Epoch 00001: val_accuracy improved from -inf to 0.77006, saving model to model_hyper.h5\n",
      "Epoch 2/20\n",
      "2000/2000 [==============================] - 36s 18ms/step - loss: 0.4205 - accuracy: 0.8125 - val_loss: 0.4431 - val_accuracy: 0.7900\n",
      "\n",
      "Epoch 00002: val_accuracy improved from 0.77006 to 0.79000, saving model to model_hyper.h5\n",
      "Epoch 3/20\n",
      "2000/2000 [==============================] - 35s 18ms/step - loss: 0.3910 - accuracy: 0.8281 - val_loss: 0.4252 - val_accuracy: 0.8004\n",
      "\n",
      "Epoch 00003: val_accuracy improved from 0.79000 to 0.80037, saving model to model_hyper.h5\n",
      "Epoch 4/20\n",
      "2000/2000 [==============================] - 35s 18ms/step - loss: 0.3643 - accuracy: 0.8408 - val_loss: 0.4761 - val_accuracy: 0.7979\n",
      "\n",
      "Epoch 00004: val_accuracy did not improve from 0.80037\n",
      "Epoch 5/20\n",
      "2000/2000 [==============================] - 34s 17ms/step - loss: 0.3360 - accuracy: 0.8537 - val_loss: 0.4235 - val_accuracy: 0.8093\n",
      "\n",
      "Epoch 00005: val_accuracy improved from 0.80037 to 0.80931, saving model to model_hyper.h5\n",
      "Epoch 6/20\n",
      "2000/2000 [==============================] - 34s 17ms/step - loss: 0.3201 - accuracy: 0.8610 - val_loss: 0.4396 - val_accuracy: 0.8201\n",
      "\n",
      "Epoch 00006: val_accuracy improved from 0.80931 to 0.82006, saving model to model_hyper.h5\n",
      "Epoch 7/20\n",
      "2000/2000 [==============================] - 34s 17ms/step - loss: 0.3025 - accuracy: 0.8708 - val_loss: 0.3325 - val_accuracy: 0.8559\n",
      "\n",
      "Epoch 00007: val_accuracy improved from 0.82006 to 0.85588, saving model to model_hyper.h5\n",
      "Epoch 8/20\n",
      "2000/2000 [==============================] - 35s 17ms/step - loss: 0.2900 - accuracy: 0.8781 - val_loss: 0.3072 - val_accuracy: 0.8690\n",
      "\n",
      "Epoch 00008: val_accuracy improved from 0.85588 to 0.86900, saving model to model_hyper.h5\n",
      "Epoch 9/20\n",
      "2000/2000 [==============================] - 35s 17ms/step - loss: 0.2776 - accuracy: 0.8848 - val_loss: 0.4289 - val_accuracy: 0.8133\n",
      "\n",
      "Epoch 00009: val_accuracy did not improve from 0.86900\n",
      "Epoch 10/20\n",
      "2000/2000 [==============================] - 35s 17ms/step - loss: 0.2679 - accuracy: 0.8901 - val_loss: 0.3815 - val_accuracy: 0.8364\n",
      "\n",
      "Epoch 00010: val_accuracy did not improve from 0.86900\n",
      "\n",
      "Epoch 00010: ReduceLROnPlateau reducing learning rate to 4.999999873689376e-05.\n",
      "Epoch 11/20\n",
      "2000/2000 [==============================] - 35s 17ms/step - loss: 0.2452 - accuracy: 0.8993 - val_loss: 0.3431 - val_accuracy: 0.8675\n",
      "\n",
      "Epoch 00011: val_accuracy did not improve from 0.86900\n",
      "Epoch 12/20\n",
      "2000/2000 [==============================] - 35s 17ms/step - loss: 0.2396 - accuracy: 0.9021 - val_loss: 0.3470 - val_accuracy: 0.8566\n",
      "\n",
      "Epoch 00012: val_accuracy did not improve from 0.86900\n",
      "\n",
      "Epoch 00012: ReduceLROnPlateau reducing learning rate to 2.499999936844688e-05.\n",
      "Epoch 13/20\n",
      "2000/2000 [==============================] - 35s 17ms/step - loss: 0.2236 - accuracy: 0.9102 - val_loss: 0.3554 - val_accuracy: 0.8605\n",
      "\n",
      "Epoch 00013: val_accuracy did not improve from 0.86900\n",
      "Epoch 14/20\n",
      "2000/2000 [==============================] - 35s 17ms/step - loss: 0.2226 - accuracy: 0.9116 - val_loss: 0.4842 - val_accuracy: 0.8209\n",
      "\n",
      "Epoch 00014: val_accuracy did not improve from 0.86900\n",
      "\n",
      "Epoch 00014: ReduceLROnPlateau reducing learning rate to 1.249999968422344e-05.\n",
      "Epoch 15/20\n",
      "2000/2000 [==============================] - 35s 17ms/step - loss: 0.2125 - accuracy: 0.9143 - val_loss: 0.3479 - val_accuracy: 0.8623\n",
      "\n",
      "Epoch 00015: val_accuracy did not improve from 0.86900\n",
      "Epoch 16/20\n",
      "2000/2000 [==============================] - 35s 17ms/step - loss: 0.2123 - accuracy: 0.9156 - val_loss: 0.4290 - val_accuracy: 0.8372\n",
      "\n",
      "Epoch 00016: val_accuracy did not improve from 0.86900\n",
      "\n",
      "Epoch 00016: ReduceLROnPlateau reducing learning rate to 1e-05.\n",
      "Epoch 17/20\n",
      "2000/2000 [==============================] - 35s 17ms/step - loss: 0.2079 - accuracy: 0.9175 - val_loss: 0.3878 - val_accuracy: 0.8468\n",
      "\n",
      "Epoch 00017: val_accuracy did not improve from 0.86900\n",
      "Epoch 18/20\n",
      "2000/2000 [==============================] - 34s 17ms/step - loss: 0.2079 - accuracy: 0.9174 - val_loss: 0.3834 - val_accuracy: 0.8514\n",
      "\n",
      "Epoch 00018: val_accuracy did not improve from 0.86900\n",
      "Epoch 19/20\n",
      "2000/2000 [==============================] - 34s 17ms/step - loss: 0.2064 - accuracy: 0.9181 - val_loss: 0.3309 - val_accuracy: 0.8669\n",
      "\n",
      "Epoch 00019: val_accuracy did not improve from 0.86900\n",
      "Epoch 20/20\n",
      "2000/2000 [==============================] - 34s 17ms/step - loss: 0.2061 - accuracy: 0.9185 - val_loss: 0.4270 - val_accuracy: 0.8389\n",
      "\n",
      "Epoch 00020: val_accuracy did not improve from 0.86900\n"
     ]
    }
   ],
   "source": [
    "hypermodel = tuner.hypermodel.build(best_hps)\n",
    "\n",
    "checkpoint = ModelCheckpoint(\"model_hyper.h5\", monitor='val_accuracy', verbose=1, save_best_only=True, mode='max')\n",
    "reduce_lr = ReduceLROnPlateau(monitor='val_accuracy', factor=0.5, patience=2, verbose=1, mode='max', min_lr=0.00001)\n",
    "\n",
    "history_hypermodel = hypermodel.fit(\n",
    "    train_gen,\n",
    "    steps_per_epoch=train_steps,\n",
    "    validation_data=val_gen,\n",
    "    validation_steps=val_steps,\n",
    "    epochs=20,\n",
    "    callbacks=[checkpoint, reduce_lr]\n",
    ")"
   ]
  },
  {
   "cell_type": "code",
   "execution_count": 297,
   "id": "00fd6d0b",
   "metadata": {},
   "outputs": [
    {
     "name": "stdout",
     "output_type": "stream",
     "text": [
      "16000/16000 [==============================] - 23s 1ms/step - loss: 0.3072 - accuracy: 0.8690\n",
      "Test loss: 0.307\n",
      "Test accuracy: 0.869\n"
     ]
    }
   ],
   "source": [
    "hypermodel.load_weights('model_hyper.h5')\n",
    "\n",
    "loss, accuracy = hypermodel.evaluate(test_gen)\n",
    "\n",
    "print(f\"Test loss: {loss:.3f}\")\n",
    "print(f\"Test accuracy: {accuracy:.3f}\")"
   ]
  },
  {
   "cell_type": "markdown",
   "id": "813354cf",
   "metadata": {},
   "source": [
    "# Predicting on the Test Data"
   ]
  },
  {
   "cell_type": "code",
   "execution_count": 318,
   "id": "05c63633",
   "metadata": {},
   "outputs": [
    {
     "name": "stdout",
     "output_type": "stream",
     "text": [
      "57458/57458 [==============================] - 213s 4ms/step\n"
     ]
    }
   ],
   "source": [
    "predictions = hypermodel.predict(competition_gen, steps = 57458, verbose=1)"
   ]
  },
  {
   "cell_type": "code",
   "execution_count": 320,
   "id": "9fef82ff",
   "metadata": {
    "scrolled": true
   },
   "outputs": [
    {
     "data": {
      "text/html": [
       "<div>\n",
       "<style scoped>\n",
       "    .dataframe tbody tr th:only-of-type {\n",
       "        vertical-align: middle;\n",
       "    }\n",
       "\n",
       "    .dataframe tbody tr th {\n",
       "        vertical-align: top;\n",
       "    }\n",
       "\n",
       "    .dataframe thead th {\n",
       "        text-align: right;\n",
       "    }\n",
       "</style>\n",
       "<table border=\"1\" class=\"dataframe\">\n",
       "  <thead>\n",
       "    <tr style=\"text-align: right;\">\n",
       "      <th></th>\n",
       "      <th>has_tumor_tissue</th>\n",
       "      <th>no_tumor_tissue</th>\n",
       "      <th>file_names</th>\n",
       "    </tr>\n",
       "  </thead>\n",
       "  <tbody>\n",
       "    <tr>\n",
       "      <th>0</th>\n",
       "      <td>0.999956</td>\n",
       "      <td>0.000043</td>\n",
       "      <td>test\\00006537328c33e284c973d7b39d340809f7271b.tif</td>\n",
       "    </tr>\n",
       "    <tr>\n",
       "      <th>1</th>\n",
       "      <td>0.999827</td>\n",
       "      <td>0.000173</td>\n",
       "      <td>test\\0000ec92553fda4ce39889f9226ace43cae3364e.tif</td>\n",
       "    </tr>\n",
       "    <tr>\n",
       "      <th>2</th>\n",
       "      <td>0.996456</td>\n",
       "      <td>0.003544</td>\n",
       "      <td>test\\00024a6dee61f12f7856b0fc6be20bc7a48ba3d2.tif</td>\n",
       "    </tr>\n",
       "    <tr>\n",
       "      <th>3</th>\n",
       "      <td>0.951028</td>\n",
       "      <td>0.048972</td>\n",
       "      <td>test\\000253dfaa0be9d0d100283b22284ab2f6b643f6.tif</td>\n",
       "    </tr>\n",
       "    <tr>\n",
       "      <th>4</th>\n",
       "      <td>0.002378</td>\n",
       "      <td>0.997622</td>\n",
       "      <td>test\\000270442cc15af719583a8172c87cd2bd9c7746.tif</td>\n",
       "    </tr>\n",
       "  </tbody>\n",
       "</table>\n",
       "</div>"
      ],
      "text/plain": [
       "   has_tumor_tissue  no_tumor_tissue  \\\n",
       "0          0.999956         0.000043   \n",
       "1          0.999827         0.000173   \n",
       "2          0.996456         0.003544   \n",
       "3          0.951028         0.048972   \n",
       "4          0.002378         0.997622   \n",
       "\n",
       "                                          file_names  \n",
       "0  test\\00006537328c33e284c973d7b39d340809f7271b.tif  \n",
       "1  test\\0000ec92553fda4ce39889f9226ace43cae3364e.tif  \n",
       "2  test\\00024a6dee61f12f7856b0fc6be20bc7a48ba3d2.tif  \n",
       "3  test\\000253dfaa0be9d0d100283b22284ab2f6b643f6.tif  \n",
       "4  test\\000270442cc15af719583a8172c87cd2bd9c7746.tif  "
      ]
     },
     "execution_count": 320,
     "metadata": {},
     "output_type": "execute_result"
    }
   ],
   "source": [
    "df_preds = pd.DataFrame(predictions, columns=['has_tumor_tissue', 'no_tumor_tissue', ])\n",
    "df_preds['file_names'] = competition_gen.filenames\n",
    "df_preds.head()"
   ]
  },
  {
   "cell_type": "code",
   "execution_count": 321,
   "id": "434a343a",
   "metadata": {
    "scrolled": true
   },
   "outputs": [
    {
     "data": {
      "text/html": [
       "<div>\n",
       "<style scoped>\n",
       "    .dataframe tbody tr th:only-of-type {\n",
       "        vertical-align: middle;\n",
       "    }\n",
       "\n",
       "    .dataframe tbody tr th {\n",
       "        vertical-align: top;\n",
       "    }\n",
       "\n",
       "    .dataframe thead th {\n",
       "        text-align: right;\n",
       "    }\n",
       "</style>\n",
       "<table border=\"1\" class=\"dataframe\">\n",
       "  <thead>\n",
       "    <tr style=\"text-align: right;\">\n",
       "      <th></th>\n",
       "      <th>has_tumor_tissue</th>\n",
       "      <th>no_tumor_tissue</th>\n",
       "      <th>file_names</th>\n",
       "      <th>id</th>\n",
       "    </tr>\n",
       "  </thead>\n",
       "  <tbody>\n",
       "    <tr>\n",
       "      <th>0</th>\n",
       "      <td>0.999956</td>\n",
       "      <td>0.000043</td>\n",
       "      <td>test\\00006537328c33e284c973d7b39d340809f7271b.tif</td>\n",
       "      <td>00006537328c33e284c973d7b39d340809f7271b</td>\n",
       "    </tr>\n",
       "    <tr>\n",
       "      <th>1</th>\n",
       "      <td>0.999827</td>\n",
       "      <td>0.000173</td>\n",
       "      <td>test\\0000ec92553fda4ce39889f9226ace43cae3364e.tif</td>\n",
       "      <td>0000ec92553fda4ce39889f9226ace43cae3364e</td>\n",
       "    </tr>\n",
       "    <tr>\n",
       "      <th>2</th>\n",
       "      <td>0.996456</td>\n",
       "      <td>0.003544</td>\n",
       "      <td>test\\00024a6dee61f12f7856b0fc6be20bc7a48ba3d2.tif</td>\n",
       "      <td>00024a6dee61f12f7856b0fc6be20bc7a48ba3d2</td>\n",
       "    </tr>\n",
       "    <tr>\n",
       "      <th>3</th>\n",
       "      <td>0.951028</td>\n",
       "      <td>0.048972</td>\n",
       "      <td>test\\000253dfaa0be9d0d100283b22284ab2f6b643f6.tif</td>\n",
       "      <td>000253dfaa0be9d0d100283b22284ab2f6b643f6</td>\n",
       "    </tr>\n",
       "    <tr>\n",
       "      <th>4</th>\n",
       "      <td>0.002378</td>\n",
       "      <td>0.997622</td>\n",
       "      <td>test\\000270442cc15af719583a8172c87cd2bd9c7746.tif</td>\n",
       "      <td>000270442cc15af719583a8172c87cd2bd9c7746</td>\n",
       "    </tr>\n",
       "  </tbody>\n",
       "</table>\n",
       "</div>"
      ],
      "text/plain": [
       "   has_tumor_tissue  no_tumor_tissue  \\\n",
       "0          0.999956         0.000043   \n",
       "1          0.999827         0.000173   \n",
       "2          0.996456         0.003544   \n",
       "3          0.951028         0.048972   \n",
       "4          0.002378         0.997622   \n",
       "\n",
       "                                          file_names  \\\n",
       "0  test\\00006537328c33e284c973d7b39d340809f7271b.tif   \n",
       "1  test\\0000ec92553fda4ce39889f9226ace43cae3364e.tif   \n",
       "2  test\\00024a6dee61f12f7856b0fc6be20bc7a48ba3d2.tif   \n",
       "3  test\\000253dfaa0be9d0d100283b22284ab2f6b643f6.tif   \n",
       "4  test\\000270442cc15af719583a8172c87cd2bd9c7746.tif   \n",
       "\n",
       "                                         id  \n",
       "0  00006537328c33e284c973d7b39d340809f7271b  \n",
       "1  0000ec92553fda4ce39889f9226ace43cae3364e  \n",
       "2  00024a6dee61f12f7856b0fc6be20bc7a48ba3d2  \n",
       "3  000253dfaa0be9d0d100283b22284ab2f6b643f6  \n",
       "4  000270442cc15af719583a8172c87cd2bd9c7746  "
      ]
     },
     "execution_count": 321,
     "metadata": {},
     "output_type": "execute_result"
    }
   ],
   "source": [
    "def get_id(x):\n",
    "    a = x.split('\\\\')\n",
    "    b = a[1].split('.')\n",
    "    return b[0]\n",
    "\n",
    "df_preds['id'] = df_preds['file_names'].apply(get_id)\n",
    "df_preds.head()"
   ]
  },
  {
   "cell_type": "code",
   "execution_count": 322,
   "id": "906d88d6",
   "metadata": {},
   "outputs": [],
   "source": [
    "def tumor_label(x):\n",
    "    present = 1 if x > 0.5 else 0\n",
    "    return present\n",
    "\n",
    "submission = pd.DataFrame({'id':df_preds['id'], 'label':df_preds['has_tumor_tissue'].apply(tumor_label)})\n",
    "submission.head()\n",
    "submission.to_csv('am_cancer_03.csv', index=False) "
   ]
  },
  {
   "cell_type": "markdown",
   "id": "b84b1dc6",
   "metadata": {},
   "source": [
    "# Conclusion\n",
    "\n",
    "- Adding dropout prevented overfitting but didn't increase accuracy\n",
    "- Adding increasing filter sizes for each group of layers increased accuracy a little\n",
    "- Having more neurons in the densely connected layer didn't increase accuracy\n",
    "- Repeating convolutonal layers increased accuracy a lot\n",
    "- Hyperparameter tuning was performed, but a lot of the parameters didn't change\n",
    "- Could run for longer, or look at all images in the dataset"
   ]
  }
 ],
 "metadata": {
  "kernelspec": {
   "display_name": "Python 3 (ipykernel)",
   "language": "python",
   "name": "python3"
  },
  "language_info": {
   "codemirror_mode": {
    "name": "ipython",
    "version": 3
   },
   "file_extension": ".py",
   "mimetype": "text/x-python",
   "name": "python",
   "nbconvert_exporter": "python",
   "pygments_lexer": "ipython3",
   "version": "3.9.13"
  }
 },
 "nbformat": 4,
 "nbformat_minor": 5
}
